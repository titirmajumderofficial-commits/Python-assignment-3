{
  "nbformat": 4,
  "nbformat_minor": 0,
  "metadata": {
    "colab": {
      "provenance": []
    },
    "kernelspec": {
      "name": "python3",
      "display_name": "Python 3"
    },
    "language_info": {
      "name": "python"
    }
  },
  "cells": [
    {
      "cell_type": "code",
      "execution_count": null,
      "metadata": {
        "id": "PoRZnrYH3QbI"
      },
      "outputs": [],
      "source": []
    },
    {
      "cell_type": "markdown",
      "source": [
        "1. What are data structures, and why are they important?\n",
        "\n",
        "Data structures are ways of organizing and storing data (e.g., list, tuple, dictionary, set). They are important because they make storage, searching, insertion, deletion, and manipulation of data more efficient."
      ],
      "metadata": {
        "id": "V6br1onX3cEg"
      }
    },
    {
      "cell_type": "markdown",
      "source": [
        "2. Difference between mutable and immutable data types with examples.\n",
        "\n",
        "Mutable = can be changed (e.g., list, dictionary, set).\n",
        "\n",
        "Immutable = cannot be changed (e.g., tuple, string).\n",
        "\n",
        "# Mutable\n",
        "a = [1, 2, 3]\n",
        "a[0] = 10   # works\n",
        "\n",
        "# Immutable\n",
        "b = (1, 2, 3)\n",
        "# b[0] = 10  # error"
      ],
      "metadata": {
        "id": "Kn3146LQ3gN2"
      }
    },
    {
      "cell_type": "markdown",
      "source": [],
      "metadata": {
        "id": "iD1upL323s34"
      }
    },
    {
      "cell_type": "markdown",
      "source": [
        "3.List vs Tuple\n",
        "\n",
        "List is mutable, Tuple is immutable.\n",
        "\n",
        "List is slower, Tuple is faster.\n",
        "\n",
        "List uses [], Tuple uses ()."
      ],
      "metadata": {
        "id": "6LDWhP6p3mlQ"
      }
    },
    {
      "cell_type": "markdown",
      "source": [
        "4. 4. How dictionaries store data\n",
        "\n",
        "\n",
        "As key-value pairs using hash tables internally."
      ],
      "metadata": {
        "id": "mIEm2h7K31f_"
      }
    },
    {
      "cell_type": "markdown",
      "source": [
        "5. 5. Why use a set instead of a list?\n",
        "\n",
        "\n",
        "Set automatically removes duplicates and membership checking is faster."
      ],
      "metadata": {
        "id": "IMVlF5_336r4"
      }
    },
    {
      "cell_type": "markdown",
      "source": [
        "6. What is a string, and how is it different from a list?\n",
        "\n",
        " String = sequence of characters (immutable).\n",
        "\n",
        "List = sequence of elements (mutable).\n"
      ],
      "metadata": {
        "id": "DE9JUYYW4BOw"
      }
    },
    {
      "cell_type": "markdown",
      "source": [
        "7. How do tuples ensure data integrity?\n",
        "\n",
        " Because they are immutable, preventing accidental modification."
      ],
      "metadata": {
        "id": "krOcVrhF4IdI"
      }
    },
    {
      "cell_type": "markdown",
      "source": [],
      "metadata": {
        "id": "yfFvXY_S4Mcn"
      }
    },
    {
      "cell_type": "markdown",
      "source": [
        "8. What is a hash table, and how does it relate to dictionaries?\n",
        "\n",
        "Hash table = structure that maps keys to values using hash functions.\n",
        "\n",
        "Python dictionaries are implemented using hash tables.\n"
      ],
      "metadata": {
        "id": "-i-YxFcO4Mx4"
      }
    },
    {
      "cell_type": "markdown",
      "source": [
        "9. Can lists contain different data types?\n",
        "\n",
        "Yes, a list can contain integers, strings, floats, etc."
      ],
      "metadata": {
        "id": "L64WCB8V4T5G"
      }
    },
    {
      "cell_type": "markdown",
      "source": [
        "10. Why are strings immutable?\n",
        "\n",
        " For memory efficiency and security. Any modification creates a new object.\n"
      ],
      "metadata": {
        "id": "m2cA2aTc4Wqp"
      }
    },
    {
      "cell_type": "markdown",
      "source": [
        "11. Advantages of dictionaries over lists\n",
        "\n",
        " Faster access using keys (O(1) complexity), while lists need index/searching.\n"
      ],
      "metadata": {
        "id": "V0KeAb8D4Zfv"
      }
    },
    {
      "cell_type": "markdown",
      "source": [
        "12. When is tuple preferable over list?\n",
        "\n",
        "When data should not change, e.g., (latitude, longitude).\n"
      ],
      "metadata": {
        "id": "Bwf_lR1h4cI4"
      }
    },
    {
      "cell_type": "markdown",
      "source": [
        "13. How do sets handle duplicates?\n",
        "\n",
        "They automatically remove duplicates.\n"
      ],
      "metadata": {
        "id": "2rem3D134ei3"
      }
    },
    {
      "cell_type": "markdown",
      "source": [
        "14. “in” keyword in lists vs dictionaries\n",
        "\n",
        "In lists: checks if an element exists.\n",
        "\n",
        "In dictionaries: checks if a key exists (not values)."
      ],
      "metadata": {
        "id": "m-0Zhz_O4hK3"
      }
    },
    {
      "cell_type": "markdown",
      "source": [],
      "metadata": {
        "id": "py1kCprl4jxn"
      }
    },
    {
      "cell_type": "markdown",
      "source": [
        "15. Can you modify tuple elements?\n",
        "\n",
        "No, because tuples are immutable.\n"
      ],
      "metadata": {
        "id": "uyW0-MxA4qQo"
      }
    },
    {
      "cell_type": "markdown",
      "source": [
        "16. Nested dictionary example\n",
        "\n",
        "A dictionary inside another dictionary.\n",
        "\n",
        "student = {\"name\": \"Riya\", \"marks\": {\"math\": 90, \"english\": 85}}\n"
      ],
      "metadata": {
        "id": "OOokUERy4sFw"
      }
    },
    {
      "cell_type": "markdown",
      "source": [
        "17. Time complexity of accessing dictionary elements\n",
        "\n",
        " O(1) on average.\n"
      ],
      "metadata": {
        "id": "6MuhdwG-4yZt"
      }
    },
    {
      "cell_type": "markdown",
      "source": [],
      "metadata": {
        "id": "OH9wiuTG4ujX"
      }
    },
    {
      "cell_type": "markdown",
      "source": [
        "18. When are lists preferred over dictionaries?\n",
        "\n",
        "When order is important and only sequential access is needed.\n"
      ],
      "metadata": {
        "id": "tNGlVT_X44Ny"
      }
    },
    {
      "cell_type": "markdown",
      "source": [
        "19. Why are dictionaries unordered?\n",
        "\n",
        "Because they rely on hash functions. (Note: from Python 3.7+, insertion order is preserved.)"
      ],
      "metadata": {
        "id": "jvFGdGyq47-g"
      }
    },
    {
      "cell_type": "markdown",
      "source": [
        "20. Difference in data retrieval (list vs dictionary)\n",
        "\n",
        "List: retrieve by index.\n",
        "\n",
        "Dictionary: retrieve by key."
      ],
      "metadata": {
        "id": "qf-US4Kb4-l4"
      }
    },
    {
      "cell_type": "code",
      "source": [
        "name = \"Titir\"\n",
        "print(name)"
      ],
      "metadata": {
        "colab": {
          "base_uri": "https://localhost:8080/"
        },
        "id": "ATx9AYoW5DgP",
        "outputId": "564daf69-a0dd-4069-b1b7-877476c89ee1"
      },
      "execution_count": 1,
      "outputs": [
        {
          "output_type": "stream",
          "name": "stdout",
          "text": [
            "Titir\n"
          ]
        }
      ]
    },
    {
      "cell_type": "code",
      "source": [
        "print(len(\"Hello World\"))"
      ],
      "metadata": {
        "colab": {
          "base_uri": "https://localhost:8080/"
        },
        "id": "tPL5ayNX5KAR",
        "outputId": "d33c8828-9e82-4014-a957-fd5b2a984297"
      },
      "execution_count": 2,
      "outputs": [
        {
          "output_type": "stream",
          "name": "stdout",
          "text": [
            "11\n"
          ]
        }
      ]
    },
    {
      "cell_type": "code",
      "source": [
        "print(\"Python Programming\"[:3])"
      ],
      "metadata": {
        "colab": {
          "base_uri": "https://localhost:8080/"
        },
        "id": "VTY2kCHj5MfV",
        "outputId": "d278ff6f-45ef-4911-fba2-0c38b969e5e2"
      },
      "execution_count": 3,
      "outputs": [
        {
          "output_type": "stream",
          "name": "stdout",
          "text": [
            "Pyt\n"
          ]
        }
      ]
    },
    {
      "cell_type": "code",
      "source": [
        "print(\"hello\".upper())"
      ],
      "metadata": {
        "colab": {
          "base_uri": "https://localhost:8080/"
        },
        "id": "U1X9oCFz5O6Z",
        "outputId": "5a081ccc-11be-4152-c9af-5f360edd15f8"
      },
      "execution_count": 4,
      "outputs": [
        {
          "output_type": "stream",
          "name": "stdout",
          "text": [
            "HELLO\n"
          ]
        }
      ]
    },
    {
      "cell_type": "code",
      "source": [
        "print(\"I like apple\".replace(\"apple\", \"orange\"))"
      ],
      "metadata": {
        "colab": {
          "base_uri": "https://localhost:8080/"
        },
        "id": "C9p3Sh6W5SWY",
        "outputId": "43bc8ba0-b1dd-45d0-e376-1c775a28076d"
      },
      "execution_count": 5,
      "outputs": [
        {
          "output_type": "stream",
          "name": "stdout",
          "text": [
            "I like orange\n"
          ]
        }
      ]
    },
    {
      "cell_type": "code",
      "source": [
        "numbers = [1, 2, 3, 4, 5]\n",
        "print(numbers)"
      ],
      "metadata": {
        "colab": {
          "base_uri": "https://localhost:8080/"
        },
        "id": "C10fzTO35Uk4",
        "outputId": "7db65d15-b673-4705-d696-f562f447bd4a"
      },
      "execution_count": 6,
      "outputs": [
        {
          "output_type": "stream",
          "name": "stdout",
          "text": [
            "[1, 2, 3, 4, 5]\n"
          ]
        }
      ]
    },
    {
      "cell_type": "code",
      "source": [
        "lst = [1, 2, 3, 4]\n",
        "lst.append(10)\n",
        "print(lst)\n"
      ],
      "metadata": {
        "colab": {
          "base_uri": "https://localhost:8080/"
        },
        "id": "4Pwn0UMK5Ww3",
        "outputId": "5ce6d652-8e49-46b3-9d87-8822105c1978"
      },
      "execution_count": 7,
      "outputs": [
        {
          "output_type": "stream",
          "name": "stdout",
          "text": [
            "[1, 2, 3, 4, 10]\n"
          ]
        }
      ]
    },
    {
      "cell_type": "code",
      "source": [
        "lst = [1, 2, 3, 4, 5]\n",
        "lst.remove(3)\n",
        "print(lst)\n"
      ],
      "metadata": {
        "colab": {
          "base_uri": "https://localhost:8080/"
        },
        "id": "0PAwkiBV5ZNh",
        "outputId": "2e4fdcfb-f422-4f8f-83c0-255b212e339f"
      },
      "execution_count": 8,
      "outputs": [
        {
          "output_type": "stream",
          "name": "stdout",
          "text": [
            "[1, 2, 4, 5]\n"
          ]
        }
      ]
    },
    {
      "cell_type": "code",
      "source": [
        "lst = ['a', 'b', 'c', 'd']\n",
        "print(lst[1])\n"
      ],
      "metadata": {
        "colab": {
          "base_uri": "https://localhost:8080/"
        },
        "id": "I2r57tHZ5fLx",
        "outputId": "517ef3db-98a0-4ad2-97fb-6a42061528a8"
      },
      "execution_count": 9,
      "outputs": [
        {
          "output_type": "stream",
          "name": "stdout",
          "text": [
            "b\n"
          ]
        }
      ]
    },
    {
      "cell_type": "code",
      "source": [
        "lst = [10, 20, 30, 40, 50]\n",
        "print(lst[::-1])"
      ],
      "metadata": {
        "colab": {
          "base_uri": "https://localhost:8080/"
        },
        "id": "nshCcY0p5gP3",
        "outputId": "5e2ccbff-7ceb-4a44-e689-055f00f3d33f"
      },
      "execution_count": 10,
      "outputs": [
        {
          "output_type": "stream",
          "name": "stdout",
          "text": [
            "[50, 40, 30, 20, 10]\n"
          ]
        }
      ]
    },
    {
      "cell_type": "code",
      "source": [
        "t = (100, 200, 300)\n",
        "print(t)"
      ],
      "metadata": {
        "colab": {
          "base_uri": "https://localhost:8080/"
        },
        "id": "hAPrbvfg5iI3",
        "outputId": "c73a8b93-ac21-46ca-8a04-245cdf600ab6"
      },
      "execution_count": 11,
      "outputs": [
        {
          "output_type": "stream",
          "name": "stdout",
          "text": [
            "(100, 200, 300)\n"
          ]
        }
      ]
    },
    {
      "cell_type": "code",
      "source": [
        "t = ('red', 'green', 'blue', 'yellow')\n",
        "print(t[-2])"
      ],
      "metadata": {
        "colab": {
          "base_uri": "https://localhost:8080/"
        },
        "id": "A-3jYQH65k7v",
        "outputId": "63a2d765-9f4b-4f40-9d61-d0bbdede99d0"
      },
      "execution_count": 12,
      "outputs": [
        {
          "output_type": "stream",
          "name": "stdout",
          "text": [
            "blue\n"
          ]
        }
      ]
    },
    {
      "cell_type": "code",
      "source": [
        "t = (10, 20, 5, 15)\n",
        "print(min(t))\n"
      ],
      "metadata": {
        "colab": {
          "base_uri": "https://localhost:8080/"
        },
        "id": "T2befylN5nMP",
        "outputId": "99148334-b81a-49db-c21c-da7353032f86"
      },
      "execution_count": 13,
      "outputs": [
        {
          "output_type": "stream",
          "name": "stdout",
          "text": [
            "5\n"
          ]
        }
      ]
    },
    {
      "cell_type": "code",
      "source": [
        "t = ('dog', 'cat', 'rabbit')\n",
        "print(t.index(\"cat\"))\n"
      ],
      "metadata": {
        "colab": {
          "base_uri": "https://localhost:8080/"
        },
        "id": "o1TgOvVe5rAA",
        "outputId": "d8829646-f0ca-4a13-9b1f-45962ee464f0"
      },
      "execution_count": 14,
      "outputs": [
        {
          "output_type": "stream",
          "name": "stdout",
          "text": [
            "1\n"
          ]
        }
      ]
    },
    {
      "cell_type": "code",
      "source": [
        "fruits = (\"apple\", \"banana\", \"mango\")\n",
        "print(\"kiwi\" in fruits)"
      ],
      "metadata": {
        "colab": {
          "base_uri": "https://localhost:8080/"
        },
        "id": "F_7_8OTM5tTx",
        "outputId": "4333398a-035f-4e70-e663-3e62bfbfb364"
      },
      "execution_count": 15,
      "outputs": [
        {
          "output_type": "stream",
          "name": "stdout",
          "text": [
            "False\n"
          ]
        }
      ]
    },
    {
      "cell_type": "code",
      "source": [
        "s = {'a', 'b', 'c'}\n",
        "print(s)\n"
      ],
      "metadata": {
        "colab": {
          "base_uri": "https://localhost:8080/"
        },
        "id": "Pp2_s3ka5vXW",
        "outputId": "7db1fb51-1684-4cde-8487-01c715d3476b"
      },
      "execution_count": 16,
      "outputs": [
        {
          "output_type": "stream",
          "name": "stdout",
          "text": [
            "{'a', 'c', 'b'}\n"
          ]
        }
      ]
    },
    {
      "cell_type": "code",
      "source": [
        "s = {1, 2, 3, 4, 5}\n",
        "s.clear()\n",
        "print(s)"
      ],
      "metadata": {
        "colab": {
          "base_uri": "https://localhost:8080/"
        },
        "id": "xm2JRgJ45xNX",
        "outputId": "03f26c07-21b4-4355-849b-4acb7b8f3b0e"
      },
      "execution_count": 17,
      "outputs": [
        {
          "output_type": "stream",
          "name": "stdout",
          "text": [
            "set()\n"
          ]
        }
      ]
    },
    {
      "cell_type": "code",
      "source": [
        "s = {1, 2, 3, 4}\n",
        "s.remove(4)\n",
        "print(s)\n"
      ],
      "metadata": {
        "colab": {
          "base_uri": "https://localhost:8080/"
        },
        "id": "MSVO2wrE5zSA",
        "outputId": "82f635e1-abf7-45a4-ea15-50a851de5830"
      },
      "execution_count": 18,
      "outputs": [
        {
          "output_type": "stream",
          "name": "stdout",
          "text": [
            "{1, 2, 3}\n"
          ]
        }
      ]
    },
    {
      "cell_type": "code",
      "source": [
        "s1 = {1, 2, 3}\n",
        "s2 = {3, 4, 5}\n",
        "print(s1.union(s2))\n"
      ],
      "metadata": {
        "colab": {
          "base_uri": "https://localhost:8080/"
        },
        "id": "FHsVmhO251WB",
        "outputId": "bfd52915-d2f0-4988-fe59-e03fb28a00e2"
      },
      "execution_count": 19,
      "outputs": [
        {
          "output_type": "stream",
          "name": "stdout",
          "text": [
            "{1, 2, 3, 4, 5}\n"
          ]
        }
      ]
    },
    {
      "cell_type": "code",
      "source": [
        "s1 = {1, 2, 3}\n",
        "s2 = {2, 3, 4}\n",
        "print(s1.intersection(s2))"
      ],
      "metadata": {
        "colab": {
          "base_uri": "https://localhost:8080/"
        },
        "id": "dr5c8RDX53wm",
        "outputId": "fd7a1e04-1ca2-4811-a008-e919f65d3564"
      },
      "execution_count": 20,
      "outputs": [
        {
          "output_type": "stream",
          "name": "stdout",
          "text": [
            "{2, 3}\n"
          ]
        }
      ]
    },
    {
      "cell_type": "code",
      "source": [
        "d = {\"name\": \"John\", \"age\": 25, \"city\": \"New York\"}\n",
        "print(d)"
      ],
      "metadata": {
        "colab": {
          "base_uri": "https://localhost:8080/"
        },
        "id": "RN3GcV2k5494",
        "outputId": "4d5fe87a-8923-4162-af4a-9c14e78c09b5"
      },
      "execution_count": 21,
      "outputs": [
        {
          "output_type": "stream",
          "name": "stdout",
          "text": [
            "{'name': 'John', 'age': 25, 'city': 'New York'}\n"
          ]
        }
      ]
    },
    {
      "cell_type": "code",
      "source": [
        "d = {'name': 'John', 'age': 25}\n",
        "d['country'] = \"USA\"\n",
        "print(d)"
      ],
      "metadata": {
        "colab": {
          "base_uri": "https://localhost:8080/"
        },
        "id": "VOyeiD_J57Cw",
        "outputId": "7f8ff3e2-b47b-43f2-b96c-14b269dab237"
      },
      "execution_count": 22,
      "outputs": [
        {
          "output_type": "stream",
          "name": "stdout",
          "text": [
            "{'name': 'John', 'age': 25, 'country': 'USA'}\n"
          ]
        }
      ]
    },
    {
      "cell_type": "code",
      "source": [
        "d = {'name': 'Alice', 'age': 30}\n",
        "print(d['name'])\n"
      ],
      "metadata": {
        "colab": {
          "base_uri": "https://localhost:8080/"
        },
        "id": "1-ES6Fc059HQ",
        "outputId": "2e33bfb5-9756-4dc9-aefa-bdc00889e478"
      },
      "execution_count": 23,
      "outputs": [
        {
          "output_type": "stream",
          "name": "stdout",
          "text": [
            "Alice\n"
          ]
        }
      ]
    },
    {
      "cell_type": "code",
      "source": [
        "d = {'name': 'Bob', 'age': 22, 'city': 'New York'}\n",
        "del d['age']\n",
        "print(d)\n"
      ],
      "metadata": {
        "colab": {
          "base_uri": "https://localhost:8080/"
        },
        "id": "Z8jW77EH5_7w",
        "outputId": "b56be57c-606a-45b6-ddaa-0820cc3d665a"
      },
      "execution_count": 24,
      "outputs": [
        {
          "output_type": "stream",
          "name": "stdout",
          "text": [
            "{'name': 'Bob', 'city': 'New York'}\n"
          ]
        }
      ]
    },
    {
      "cell_type": "code",
      "source": [
        "d = {'name': 'Alice', 'city': 'Paris'}\n",
        "print(\"city\" in d)\n"
      ],
      "metadata": {
        "colab": {
          "base_uri": "https://localhost:8080/"
        },
        "id": "g4Hrfkto6B5o",
        "outputId": "c0dd2230-e3a9-4535-87e3-c03eec4afd0e"
      },
      "execution_count": 25,
      "outputs": [
        {
          "output_type": "stream",
          "name": "stdout",
          "text": [
            "True\n"
          ]
        }
      ]
    },
    {
      "cell_type": "code",
      "source": [
        "lst = [1, 2, 3]\n",
        "t = (4, 5, 6)\n",
        "d = {\"a\": 1, \"b\": 2}\n",
        "print(lst, t, d)"
      ],
      "metadata": {
        "colab": {
          "base_uri": "https://localhost:8080/"
        },
        "id": "MYYnXKZL6GHQ",
        "outputId": "2d5ca40f-d02c-44f7-a595-4d9e1a1a364a"
      },
      "execution_count": 26,
      "outputs": [
        {
          "output_type": "stream",
          "name": "stdout",
          "text": [
            "[1, 2, 3] (4, 5, 6) {'a': 1, 'b': 2}\n"
          ]
        }
      ]
    },
    {
      "cell_type": "code",
      "source": [
        "import random\n",
        "lst = random.sample(range(1, 101), 5)\n",
        "lst.sort()\n",
        "print(lst)\n"
      ],
      "metadata": {
        "colab": {
          "base_uri": "https://localhost:8080/"
        },
        "id": "0qoaGuxL6P8o",
        "outputId": "68e27b60-8901-4511-892f-e331d5c2089d"
      },
      "execution_count": 27,
      "outputs": [
        {
          "output_type": "stream",
          "name": "stdout",
          "text": [
            "[28, 33, 55, 60, 80]\n"
          ]
        }
      ]
    },
    {
      "cell_type": "code",
      "source": [
        "lst = [\"apple\", \"banana\", \"cherry\", \"date\"]\n",
        "print(lst[3])\n"
      ],
      "metadata": {
        "colab": {
          "base_uri": "https://localhost:8080/"
        },
        "id": "_lPIKw7A6R-g",
        "outputId": "6e585fcf-27b1-4809-a80b-d835a05f1d1a"
      },
      "execution_count": 28,
      "outputs": [
        {
          "output_type": "stream",
          "name": "stdout",
          "text": [
            "date\n"
          ]
        }
      ]
    },
    {
      "cell_type": "code",
      "source": [
        "d1 = {\"a\": 1, \"b\": 2}\n",
        "d2 = {\"c\": 3, \"d\": 4}\n",
        "d1.update(d2)\n",
        "print(d1)\n"
      ],
      "metadata": {
        "colab": {
          "base_uri": "https://localhost:8080/"
        },
        "id": "-eecJ-FR6UXQ",
        "outputId": "5cad0c37-5b65-4fdf-8bf1-8be165798204"
      },
      "execution_count": 29,
      "outputs": [
        {
          "output_type": "stream",
          "name": "stdout",
          "text": [
            "{'a': 1, 'b': 2, 'c': 3, 'd': 4}\n"
          ]
        }
      ]
    },
    {
      "cell_type": "code",
      "source": [
        "lst = [\"apple\", \"banana\", \"apple\", \"cherry\"]\n",
        "print(set(lst))"
      ],
      "metadata": {
        "id": "qrq1AcRU6WnB",
        "outputId": "e4dec4ab-66bc-49b2-9005-0a32c35ea4a8",
        "colab": {
          "base_uri": "https://localhost:8080/"
        }
      },
      "execution_count": 30,
      "outputs": [
        {
          "output_type": "stream",
          "name": "stdout",
          "text": [
            "{'apple', 'cherry', 'banana'}\n"
          ]
        }
      ]
    },
    {
      "cell_type": "markdown",
      "source": [],
      "metadata": {
        "id": "pau_XU3q4PwH"
      }
    }
  ]
}